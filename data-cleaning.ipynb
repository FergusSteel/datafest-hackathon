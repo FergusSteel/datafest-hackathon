{
 "cells": [
  {
   "cell_type": "markdown",
   "id": "5cec788f-0272-41ee-a3cc-7fd79269b007",
   "metadata": {},
   "source": [
    "# "
   ]
  },
  {
   "cell_type": "code",
   "execution_count": 23,
   "id": "f1f3609a-8ed6-452d-a74f-c93c7d1fd172",
   "metadata": {},
   "outputs": [],
   "source": [
    "import pandas as pdf\n",
    "import numpy as np\n",
    "from skimpy import clean_columns"
   ]
  },
  {
   "cell_type": "code",
   "execution_count": 85,
   "id": "d25e159e-9049-439c-bebe-a36d9e674d91",
   "metadata": {},
   "outputs": [
    {
     "name": "stdout",
     "output_type": "stream",
     "text": [
      "year  team\n",
      "1966  GNB     3.0\n",
      "      KAN     6.0\n",
      "1967  GNB     4.0\n",
      "      OAK     3.0\n",
      "1968  BAL     0.0\n",
      "             ... \n",
      "2019  SFO     1.0\n",
      "2020  KAN     3.0\n",
      "      TAM     1.0\n",
      "2021  CIN     7.0\n",
      "      LAR     2.0\n",
      "Name: times_sacked, Length: 112, dtype: float64\n"
     ]
    }
   ],
   "source": [
    "def read_csv(filename):\n",
    "    df = pd.read_csv(f\"dat/{filename}\")\n",
    "    df = clean_columns(df)\n",
    "    return df\n",
    "\n",
    "sb_ratings = read_csv('super-bowl-ratings.csv')\n",
    "sb_dat = read_csv('superbowl_2.csv')\n",
    "sb_off_stats = read_csv('superbowloffensivestats.csv')\n",
    "sb_mvps = read_csv('mvpsb.csv')\n",
    "\n",
    "to_short_name = {\n",
    "    'Baltimore Colts': \"IND\",\n",
    "    'Baltimore Ravens': \"BAL\",\n",
    "    'Chicago Bears': \"CHI\",\n",
    "    'Dallas Cowboys': \"DAL\",\n",
    "    'Denver Broncos': \"DEN\",\n",
    "    'Green Bay Packers': \"GNB\",\n",
    "    'Indianapolis Colts': \"IND\",\n",
    "    'Kansas City Chiefs':\"KAN\",\n",
    "    'Los Angeles Raiders': \"LAR\",\n",
    "    'Los Angeles Rams': \"RAM\", \n",
    "    'Miami Dolphins': \"MIA\",\n",
    "    'New England Patriots': \"NWE\",\n",
    "    'New Orleans Saints': \"NOR\",\n",
    "    'New York Giants': \"NYG\",\n",
    "    'New York Jets': \"NYJ\",\n",
    "    'Oakland Raiders': \"OAK\",\n",
    "    'Philadelphia Eagles': \"PHI\",\n",
    "    'Pittsburgh Steelers': \"PIT\",\n",
    "    'San Francisco 49ers': \"SFO\",\n",
    "    'Seattle Seahawks': \"SEA\",\n",
    "    'St. Louis Rams': \"RAM\",\n",
    "    'Tampa Bay Buccaneers': \"TAM\",\n",
    "    'Washington Redskins': \"WAS\",\n",
    "    'Arizona Cardinals' : \"ARI\",\n",
    "    'Atlanta Falcons': \"ATL\",\n",
    "    'Buffalo Bills': \"BUF\",\n",
    "    'Carolina Panthers': \"CAR\",\n",
    "    'Cincinnati Bengals': \"CIN\",\n",
    "    'Minnesota Vikings': \"MIN\",\n",
    "    'San Diego Chargers': \"SDG\",\n",
    "    'Tennessee Titans': \"TEN\"\n",
    "}\n",
    "to_short_names_mvps = {\n",
    "    'Baltimore' : \"BAL\",\n",
    "    'Chicago' : \"CHI\",\n",
    "    'Dallas': \"DAL\",\n",
    "    'Denver': \"DEN\",\n",
    "    'Green Bay': \"GNB\",\n",
    "    'Indianapolis': \"IND\",\n",
    "    'Kansas City': \"KAN\",\n",
    "    'Los Angeles Raiders': \"LAR\",\n",
    "    'Miami': \"MIA\",\n",
    "    'New England': \"NWE\",\n",
    "    'New Orleans': \"NOR\",\n",
    "    'New York Giants': \"NYG\",\n",
    "    'New York Jets': \"NYJ\",\n",
    "    'Oakland': \"OAK\",\n",
    "    'Philadelphia': \"PHI\",\n",
    "    'Pittsburgh': \"PIT\",\n",
    "    'San Francisco': \"SFO\",\n",
    "    'Seattle': \"SEA\",\n",
    "    'St. Louis': \"RAM\",\n",
    "    'Tampa Bay': \"TAM\",\n",
    "    'Washington': \"WAS\"\n",
    "}\n",
    "\n",
    "sb_dat.replace(to_replace=to_short_name.keys(), value=to_short_name.values(), inplace=True)\n",
    "sb_mvps.replace(to_replace=to_short_names_mvps.keys(), value=to_short_names_mvps.values(), inplace=True)\n",
    "\n",
    "print(sb_off_stats.groupby([\"year\", \"team\"])[\"times_sacked\"].sum())"
   ]
  }
 ],
 "metadata": {
  "kernelspec": {
   "display_name": "Python 3 (ipykernel)",
   "language": "python",
   "name": "python3"
  },
  "language_info": {
   "codemirror_mode": {
    "name": "ipython",
    "version": 3
   },
   "file_extension": ".py",
   "mimetype": "text/x-python",
   "name": "python",
   "nbconvert_exporter": "python",
   "pygments_lexer": "ipython3",
   "version": "3.11.5"
  }
 },
 "nbformat": 4,
 "nbformat_minor": 5
}
