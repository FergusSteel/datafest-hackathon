{
 "cells": [
  {
   "cell_type": "markdown",
   "id": "5cec788f-0272-41ee-a3cc-7fd79269b007",
   "metadata": {},
   "source": [
    "# "
   ]
  },
  {
   "cell_type": "code",
   "execution_count": 2,
   "id": "f1f3609a-8ed6-452d-a74f-c93c7d1fd172",
   "metadata": {},
   "outputs": [],
   "source": [
    "import pandas as pd\n",
    "import numpy as np\n",
    "from skimpy import clean_columns\n",
    "import matplotlib.pyplot as plt"
   ]
  },
  {
   "cell_type": "code",
   "execution_count": 3,
   "id": "d25e159e-9049-439c-bebe-a36d9e674d91",
   "metadata": {},
   "outputs": [
    {
     "name": "stdout",
     "output_type": "stream",
     "text": [
      "Index(['year', 'team', 'completions', 'pass_attempts', 'passing_yards',\n",
      "       'passing_td', 'interception', 'times_sacked', 'sack_yards',\n",
      "       'rush_attempts', 'rushing_td', 'receptions', 'receiving_yards',\n",
      "       'receiving_td', 'fumbles_lost', 'winner', 'rushing_yards',\n",
      "       'pass_completion', 'turnovers', 'yards_per_attempt'],\n",
      "      dtype='object')\n"
     ]
    }
   ],
   "source": [
    "def read_csv(filename):\n",
    "    df = pd.read_csv(f\"dat/{filename}\")\n",
    "    df = clean_columns(df)\n",
    "    return df\n",
    "\n",
    "sb_ratings = read_csv('super-bowl-ratings.csv')\n",
    "sb_dat = read_csv('superbowl_2.csv')\n",
    "sb_off_stats = read_csv('superbowloffensivestats.csv')\n",
    "sb_mvps = read_csv('mvpsb.csv')\n",
    "\n",
    "to_short_name = {\n",
    "    'Baltimore Colts': \"IND\",\n",
    "    'Baltimore Ravens': \"BAL\",\n",
    "    'Chicago Bears': \"CHI\",\n",
    "    'Dallas Cowboys': \"DAL\",\n",
    "    'Denver Broncos': \"DEN\",\n",
    "    'Green Bay Packers': \"GNB\",\n",
    "    'Indianapolis Colts': \"IND\",\n",
    "    'Kansas City Chiefs':\"KAN\",\n",
    "    'Los Angeles Raiders': \"LAR\",\n",
    "    'Los Angeles Rams': \"RAM\", \n",
    "    'Miami Dolphins': \"MIA\",\n",
    "    'New England Patriots': \"NWE\",\n",
    "    'New Orleans Saints': \"NOR\",\n",
    "    'New York Giants': \"NYG\",\n",
    "    'New York Jets': \"NYJ\",\n",
    "    'Oakland Raiders': \"OAK\",\n",
    "    'Philadelphia Eagles': \"PHI\",\n",
    "    'Pittsburgh Steelers': \"PIT\",\n",
    "    'San Francisco 49ers': \"SFO\",\n",
    "    'Seattle Seahawks': \"SEA\",\n",
    "    'St. Louis Rams': \"RAM\",\n",
    "    'Tampa Bay Buccaneers': \"TAM\",\n",
    "    'Washington Redskins': \"WAS\",\n",
    "    'Arizona Cardinals' : \"ARI\",\n",
    "    'Atlanta Falcons': \"ATL\",\n",
    "    'Buffalo Bills': \"BUF\",\n",
    "    'Carolina Panthers': \"CAR\",\n",
    "    'Cincinnati Bengals': \"CIN\",\n",
    "    'Minnesota Vikings': \"MIN\",\n",
    "    'San Diego Chargers': \"SDG\",\n",
    "    'Tennessee Titans': \"TEN\"\n",
    "}\n",
    "to_short_names_mvps = {\n",
    "    'Baltimore' : \"BAL\",\n",
    "    'Chicago' : \"CHI\",\n",
    "    'Dallas': \"DAL\",\n",
    "    'Denver': \"DEN\",\n",
    "    'Green Bay': \"GNB\",\n",
    "    'Indianapolis': \"IND\",\n",
    "    'Kansas City': \"KAN\",\n",
    "    'Los Angeles Raiders': \"LAR\",\n",
    "    'Miami': \"MIA\",\n",
    "    'New England': \"NWE\",\n",
    "    'New Orleans': \"NOR\",\n",
    "    'New York Giants': \"NYG\",\n",
    "    'New York Jets': \"NYJ\",\n",
    "    'Oakland': \"OAK\",\n",
    "    'Philadelphia': \"PHI\",\n",
    "    'Pittsburgh': \"PIT\",\n",
    "    'San Francisco': \"SFO\",\n",
    "    'Seattle': \"SEA\",\n",
    "    'St. Louis': \"RAM\",\n",
    "    'Tampa Bay': \"TAM\",\n",
    "    'Washington': \"WAS\"\n",
    "}\n",
    "\n",
    "sb_dat.replace(to_replace=to_short_name.keys(), value=to_short_name.values(), inplace=True)\n",
    "sb_mvps.replace(to_replace=to_short_names_mvps.keys(), value=to_short_names_mvps.values(), inplace=True)\n",
    "print(sb_off_stats.columns)"
   ]
  },
  {
   "cell_type": "code",
   "execution_count": 4,
   "id": "46842693-50a0-4b26-94b1-6a0a3eed40f3",
   "metadata": {},
   "outputs": [
    {
     "name": "stdout",
     "output_type": "stream",
     "text": [
      "     year team  winner  pass_completion  turnovers  yards_per_attempt  \\\n",
      "0      56  CIN       0         0.676471        0.0           7.911765   \n",
      "1      56  LAR       1         0.634146        2.0           6.902439   \n",
      "2      55  KAN       0         0.530612        2.0           5.510204   \n",
      "3      55  TAM       1         0.724138        0.0           6.931034   \n",
      "4      54  KAN       1         0.619048        2.0           6.809524   \n",
      "..    ...  ...     ...              ...        ...                ...   \n",
      "107     3  NYJ       1         0.586207        1.0           7.103448   \n",
      "108     2  GNB       1         0.541667        0.0           8.416667   \n",
      "109     2  OAK       0         0.441176        1.0           6.117647   \n",
      "110     1  GNB       1         0.666667        1.0          10.416667   \n",
      "111     1  KAN       0         0.531250        1.0           7.125000   \n",
      "\n",
      "     rushing_yards  times_sacked  \n",
      "0               79             7  \n",
      "1               43             2  \n",
      "2              107             3  \n",
      "3              145             1  \n",
      "4              129             4  \n",
      "..             ...           ...  \n",
      "107            142             2  \n",
      "108            160             4  \n",
      "109            107             3  \n",
      "110            133             3  \n",
      "111             72             6  \n",
      "\n",
      "[112 rows x 8 columns]\n"
     ]
    }
   ],
   "source": [
    "# group data\n",
    "#sb_off_stats = sb_off_stats.groupby([\"year\", \"team\"])\n",
    "import csv\n",
    "\n",
    "sb_off_stats[\"pass_completion\"] = sb_off_stats[\"completions\"] / sb_off_stats[\"pass_attempts\"]\n",
    "sb_off_stats[\"turnovers\"] = sb_off_stats[\"interception\"] + sb_off_stats[\"fumbles_lost\"]\n",
    "sb_off_stats[\"yards_per_attempt\"] = sb_off_stats[\"passing_yards\"] / sb_off_stats[\"pass_attempts\"]\n",
    "\n",
    "sb_off_stats = sb_off_stats[[\"year\", \"team\", \"winner\", \"pass_completion\", \"turnovers\", \"yards_per_attempt\", \"rushing_yards\", \"times_sacked\"]]\n",
    "\n",
    "for col in sb_off_stats.columns:\n",
    "    sb_off_stats[col] = sb_off_stats[col].fillna(0)\n",
    "print(sb_off_stats)\n",
    "\n",
    "sb_off_stats.to_csv('stats.csv', index=False)"
   ]
  },
  {
   "cell_type": "code",
   "execution_count": 5,
   "id": "fb7c636d-3a8d-42f3-b3fc-dc34219d624f",
   "metadata": {},
   "outputs": [
    {
     "name": "stderr",
     "output_type": "stream",
     "text": [
      "2023-11-04 15:49:40.255714: I tensorflow/tsl/cuda/cudart_stub.cc:28] Could not find cuda drivers on your machine, GPU will not be used.\n",
      "2023-11-04 15:49:40.425404: I tensorflow/tsl/cuda/cudart_stub.cc:28] Could not find cuda drivers on your machine, GPU will not be used.\n",
      "2023-11-04 15:49:40.426182: I tensorflow/core/platform/cpu_feature_guard.cc:182] This TensorFlow binary is optimized to use available CPU instructions in performance-critical operations.\n",
      "To enable the following instructions: AVX2 FMA, in other operations, rebuild TensorFlow with the appropriate compiler flags.\n",
      "2023-11-04 15:49:41.621975: W tensorflow/compiler/tf2tensorrt/utils/py_utils.cc:38] TF-TRT Warning: Could not find TensorRT\n"
     ]
    },
    {
     "name": "stdout",
     "output_type": "stream",
     "text": [
      "Epoch 1/50\n"
     ]
    },
    {
     "name": "stderr",
     "output_type": "stream",
     "text": [
      "2023-11-04 15:50:05.825336: E tensorflow/compiler/xla/stream_executor/cuda/cuda_driver.cc:268] failed call to cuInit: CUDA_ERROR_NO_DEVICE: no CUDA-capable device is detected\n"
     ]
    },
    {
     "name": "stdout",
     "output_type": "stream",
     "text": [
      "3/3 [==============================] - 0s 25ms/step - loss: 5.5690\n",
      "Epoch 2/50\n",
      "3/3 [==============================] - 0s 24ms/step - loss: 1.1949\n",
      "Epoch 3/50\n",
      "3/3 [==============================] - 0s 25ms/step - loss: 2.0819\n",
      "Epoch 4/50\n",
      "3/3 [==============================] - 0s 26ms/step - loss: 2.2637\n",
      "Epoch 5/50\n",
      "3/3 [==============================] - 0s 24ms/step - loss: 1.3140\n",
      "Epoch 6/50\n",
      "3/3 [==============================] - 0s 25ms/step - loss: 0.9848\n",
      "Epoch 7/50\n",
      "3/3 [==============================] - 0s 25ms/step - loss: 1.2050\n",
      "Epoch 8/50\n",
      "3/3 [==============================] - 0s 25ms/step - loss: 0.6938\n",
      "Epoch 9/50\n",
      "3/3 [==============================] - 0s 25ms/step - loss: 0.9104\n",
      "Epoch 10/50\n",
      "3/3 [==============================] - 0s 26ms/step - loss: 0.8284\n",
      "Epoch 11/50\n",
      "3/3 [==============================] - 0s 28ms/step - loss: 0.5477\n",
      "Epoch 12/50\n",
      "3/3 [==============================] - 0s 27ms/step - loss: 0.7981\n",
      "Epoch 13/50\n",
      "3/3 [==============================] - 0s 25ms/step - loss: 0.6430\n",
      "Epoch 14/50\n",
      "3/3 [==============================] - 0s 27ms/step - loss: 0.6774\n",
      "Epoch 15/50\n",
      "3/3 [==============================] - 0s 24ms/step - loss: 0.6317\n",
      "Epoch 16/50\n",
      "3/3 [==============================] - 0s 26ms/step - loss: 0.5423\n",
      "Epoch 17/50\n",
      "3/3 [==============================] - 0s 24ms/step - loss: 0.6207\n",
      "Epoch 18/50\n",
      "3/3 [==============================] - 0s 25ms/step - loss: 0.5864\n",
      "Epoch 19/50\n",
      "3/3 [==============================] - 0s 24ms/step - loss: 0.5928\n",
      "Epoch 20/50\n",
      "3/3 [==============================] - 0s 26ms/step - loss: 0.5434\n",
      "Epoch 21/50\n",
      "3/3 [==============================] - 0s 24ms/step - loss: 0.5809\n",
      "Epoch 22/50\n",
      "3/3 [==============================] - 0s 25ms/step - loss: 0.5240\n",
      "Epoch 23/50\n",
      "3/3 [==============================] - 0s 35ms/step - loss: 0.5481\n",
      "Epoch 24/50\n",
      "3/3 [==============================] - 0s 24ms/step - loss: 0.5342\n",
      "Epoch 25/50\n",
      "3/3 [==============================] - 0s 25ms/step - loss: 0.5426\n",
      "Epoch 26/50\n",
      "3/3 [==============================] - 0s 25ms/step - loss: 0.5445\n",
      "Epoch 27/50\n",
      "3/3 [==============================] - 0s 25ms/step - loss: 0.5218\n",
      "Epoch 28/50\n",
      "3/3 [==============================] - 0s 27ms/step - loss: 0.5483\n",
      "Epoch 29/50\n",
      "3/3 [==============================] - 0s 26ms/step - loss: 0.5149\n",
      "Epoch 30/50\n",
      "3/3 [==============================] - 0s 32ms/step - loss: 0.5148\n",
      "Epoch 31/50\n",
      "3/3 [==============================] - 0s 35ms/step - loss: 0.5087\n",
      "Epoch 32/50\n",
      "3/3 [==============================] - 0s 23ms/step - loss: 0.5205\n",
      "Epoch 33/50\n",
      "3/3 [==============================] - 0s 25ms/step - loss: 0.5104\n",
      "Epoch 34/50\n",
      "3/3 [==============================] - 0s 26ms/step - loss: 0.5095\n",
      "Epoch 35/50\n",
      "3/3 [==============================] - 0s 24ms/step - loss: 0.5087\n",
      "Epoch 36/50\n",
      "3/3 [==============================] - 0s 24ms/step - loss: 0.5056\n",
      "Epoch 37/50\n",
      "3/3 [==============================] - 0s 26ms/step - loss: 0.5113\n",
      "Epoch 38/50\n",
      "3/3 [==============================] - 0s 25ms/step - loss: 0.5170\n",
      "Epoch 39/50\n",
      "3/3 [==============================] - 0s 24ms/step - loss: 0.5056\n",
      "Epoch 40/50\n",
      "3/3 [==============================] - 0s 25ms/step - loss: 0.5185\n",
      "Epoch 41/50\n",
      "3/3 [==============================] - 0s 25ms/step - loss: 0.5106\n",
      "Epoch 42/50\n",
      "3/3 [==============================] - 0s 26ms/step - loss: 0.5005\n",
      "Epoch 43/50\n",
      "3/3 [==============================] - 0s 24ms/step - loss: 0.5254\n",
      "Epoch 44/50\n",
      "3/3 [==============================] - 0s 25ms/step - loss: 0.5008\n",
      "Epoch 45/50\n",
      "3/3 [==============================] - 0s 24ms/step - loss: 0.5100\n",
      "Epoch 46/50\n",
      "3/3 [==============================] - 0s 30ms/step - loss: 0.5059\n",
      "Epoch 47/50\n",
      "3/3 [==============================] - 0s 25ms/step - loss: 0.4991\n",
      "Epoch 48/50\n",
      "3/3 [==============================] - 0s 27ms/step - loss: 0.5038\n",
      "Epoch 49/50\n",
      "3/3 [==============================] - 0s 24ms/step - loss: 0.5071\n",
      "Epoch 50/50\n",
      "3/3 [==============================] - 0s 23ms/step - loss: 0.4933\n"
     ]
    },
    {
     "data": {
      "text/plain": [
       "<keras.src.callbacks.History at 0x7fc05d0d00d0>"
      ]
     },
     "execution_count": 5,
     "metadata": {},
     "output_type": "execute_result"
    }
   ],
   "source": [
    "# import matplotlib\n",
    "\n",
    "\n",
    "# matplotlib.rcParams.update({'xtick.color': \"white\",\n",
    "#                      'ytick.color': \"white\",\n",
    "#                      'axes.labelcolor': \"white\"}) \n",
    "# bg = plt.imread(\"nfl.jpg\")\n",
    "\n",
    "# width = 10\n",
    "# fig, axs = plt.subplots(nrows=1, ncols=4, figsize=(width, width * bg.shape[0] / bg.shape[1]))\n",
    "# for ax in np.ravel(axs):\n",
    "#     ax.patch.set_alpha(0.7)\n",
    "x_train = sb_off_stats.head(82)\n",
    "x_train = x_train.drop(columns=[\"winner\", \"year\", \"team\"])\n",
    "y_train = sb_off_stats[\"winner\"].head(82)\n",
    "\n",
    "x_val = sb_off_stats.tail(30)\n",
    "x_val = x_val.drop(columns=[\"winner\", \"year\", \"team\"])\n",
    "y_val = sb_off_stats[\"winner\"].tail(30)\n",
    "\n",
    "import tensorflow as tf\n",
    "from tensorflow import keras\n",
    "\n",
    "# Define the model\n",
    "model = keras.Sequential([\n",
    "    keras.layers.Dense(64, activation='relu', input_shape=(5,)),\n",
    "    keras.layers.Dense(32, activation='relu'),\n",
    "    keras.layers.Dense(1, activation='sigmoid')\n",
    "])\n",
    "\n",
    "# Compile the model\n",
    "model.compile(optimizer='adam', loss='binary_crossentropy', run_eagerly=True)\n",
    "\n",
    "# Train the model\n",
    "model.fit(x_train, y_train, epochs=50)"
   ]
  },
  {
   "cell_type": "code",
   "execution_count": 6,
   "id": "fb34bb3d-6b91-4348-b06e-06f4fb56f6ea",
   "metadata": {},
   "outputs": [
    {
     "name": "stdout",
     "output_type": "stream",
     "text": [
      "1/1 [==============================] - 0s 15ms/step\n",
      "Model Predicted Win%: [0.43024448] i.e. [0.]\n",
      "Ground Truth: 0\n",
      "Model Predicted Win%: [0.8829393] i.e. [1.]\n",
      "Ground Truth: 1\n",
      "Model Predicted Win%: [0.9080139] i.e. [1.]\n",
      "Ground Truth: 1\n",
      "Model Predicted Win%: [0.59236836] i.e. [1.]\n",
      "Ground Truth: 0\n",
      "Model Predicted Win%: [0.4322124] i.e. [0.]\n",
      "Ground Truth: 0\n",
      "The model predicts the winner of the superbowl correctly: 76% of the time\n"
     ]
    }
   ],
   "source": [
    "# Predict model\n",
    "validation_predictions = model.predict(x_val)\n",
    "for i in range(5):\n",
    "    print(f\"Model Predicted Win%: {validation_predictions[i]} i.e. {np.round(validation_predictions[i])}\")\n",
    "    print(f\"Ground Truth: {y_val.iloc[i]}\")\n",
    "\n",
    "correct = 0\n",
    "\n",
    "for i in range(30):\n",
    "    if np.round(validation_predictions[i]) == y_val.iloc[i]:\n",
    "        correct += 1\n",
    "\n",
    "print(f\"The model predicts the winner of the superbowl correctly: {int(correct/30 * 100)}% of the time\")"
   ]
  },
  {
   "cell_type": "code",
   "execution_count": 7,
   "id": "5f7d9611-1a99-4a4d-9f0e-731e6b997076",
   "metadata": {},
   "outputs": [
    {
     "name": "stdout",
     "output_type": "stream",
     "text": [
      "1/1 [==============================] - 0s 15ms/step\n",
      "1/1 [==============================] - 0s 23ms/step\n",
      "Chiefs' prediction: [[0.7276007]]\n",
      "49ers' prediction: [[0.33228266]]\n"
     ]
    }
   ],
   "source": [
    "import tensorflow as tf\n",
    "x_chiefs = tf.constant([[25/36, 2, 11.3, 112, 1]])\n",
    "x_49ers = tf.constant([[29/46, 3, 6.7, 101, 3]])\n",
    "\n",
    "chiefs_prediction = model.predict(x_chiefs)\n",
    "forty_niners_prediction = model.predict(x_49ers)\n",
    "\n",
    "print(\"Chiefs' prediction:\", chiefs_prediction)\n",
    "print(\"49ers' prediction:\", forty_niners_prediction)\n"
   ]
  },
  {
   "cell_type": "code",
   "execution_count": 9,
   "id": "1e7193e8-d330-44e3-b077-1bf61b82c2b5",
   "metadata": {},
   "outputs": [
    {
     "name": "stdout",
     "output_type": "stream",
     "text": [
      "1/1 [==============================] - 0s 20ms/step\n",
      "[[0.6514643]]\n"
     ]
    }
   ],
   "source": [
    "# What if they keep playing liek they have been?\n",
    "x_average_chiefs = tf.constant([[212/310, 11/8, 7.4,841/8, 10/8]])\n",
    "avg_chiefs_prediction = model.predict(x_average_chiefs)\n",
    "\n",
    "print(avg_chiefs_prediction)"
   ]
  }
 ],
 "metadata": {
  "kernelspec": {
   "display_name": "Python 3 (ipykernel)",
   "language": "python",
   "name": "python3"
  },
  "language_info": {
   "codemirror_mode": {
    "name": "ipython",
    "version": 3
   },
   "file_extension": ".py",
   "mimetype": "text/x-python",
   "name": "python",
   "nbconvert_exporter": "python",
   "pygments_lexer": "ipython3",
   "version": "3.11.5"
  }
 },
 "nbformat": 4,
 "nbformat_minor": 5
}
